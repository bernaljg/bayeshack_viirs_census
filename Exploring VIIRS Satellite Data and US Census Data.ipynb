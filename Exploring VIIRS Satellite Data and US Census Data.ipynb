{
 "cells": [
  {
   "cell_type": "markdown",
   "metadata": {},
   "source": [
    "Exploring correlations between VIIRS satellite data and US census data on population, income and poverty.\n",
    "**Author:** Bernal Jimenez\n"
   ]
  },
  {
   "cell_type": "code",
   "execution_count": 314,
   "metadata": {
    "collapsed": false,
    "scrolled": false
   },
   "outputs": [],
   "source": [
    "%matplotlib inline\n",
    "\n",
    "import pandas as pd\n",
    "import numpy as np\n",
    "import geojson\n",
    "import matplotlib.pyplot as plt \n",
    "import os\n",
    "import sklearn as skl\n",
    "import sklearn.preprocessing as sklpp\n",
    "\n",
    "plt.style.use('ggplot')"
   ]
  },
  {
   "cell_type": "markdown",
   "metadata": {},
   "source": [
    "## 1. Loading the dataset"
   ]
  },
  {
   "cell_type": "markdown",
   "metadata": {},
   "source": [
    "Load and organize the VIIRS Centiles dataset, the Metropolitan Area Census Data and the Census Income Data from 2014."
   ]
  },
  {
   "cell_type": "code",
   "execution_count": 315,
   "metadata": {
    "collapsed": false
   },
   "outputs": [],
   "source": [
    "viirs_data = pd.read_csv('data/bayes_viirs_centiles.csv')\n",
    "pop_data = pd.read_csv('data/util/us_metropolitan_area_census_data_2014_only.csv')\n",
    "income_data = pd.read_csv('data/util/small_area_income_census_data_2014.csv')"
   ]
  },
  {
   "cell_type": "markdown",
   "metadata": {},
   "source": [
    "## 2. Organizing the datasets"
   ]
  },
  {
   "cell_type": "markdown",
   "metadata": {},
   "source": [
    "Organizing VIIRS DATA"
   ]
  },
  {
   "cell_type": "code",
   "execution_count": 316,
   "metadata": {
    "collapsed": false
   },
   "outputs": [
    {
     "data": {
      "text/html": [
       "<div style=\"max-height:1000px;max-width:1500px;overflow:auto;\">\n",
       "<table border=\"1\" class=\"dataframe\">\n",
       "  <thead>\n",
       "    <tr style=\"text-align: right;\">\n",
       "      <th></th>\n",
       "      <th>FIPS</th>\n",
       "      <th>total</th>\n",
       "      <th>pct.0</th>\n",
       "      <th>pct.1</th>\n",
       "      <th>pct.2</th>\n",
       "      <th>pct.3</th>\n",
       "      <th>pct.4</th>\n",
       "      <th>pct.5</th>\n",
       "      <th>pct.6</th>\n",
       "      <th>pct.7</th>\n",
       "      <th>...</th>\n",
       "      <th>pct.91</th>\n",
       "      <th>pct.92</th>\n",
       "      <th>pct.93</th>\n",
       "      <th>pct.94</th>\n",
       "      <th>pct.95</th>\n",
       "      <th>pct.96</th>\n",
       "      <th>pct.97</th>\n",
       "      <th>pct.98</th>\n",
       "      <th>pct.99</th>\n",
       "      <th>pct.100</th>\n",
       "    </tr>\n",
       "  </thead>\n",
       "  <tbody>\n",
       "    <tr>\n",
       "      <th>8 </th>\n",
       "      <td> 1001</td>\n",
       "      <td> 10435.464470</td>\n",
       "      <td> 0.089104</td>\n",
       "      <td> 0.144017</td>\n",
       "      <td> 0.157609</td>\n",
       "      <td> 0.167387</td>\n",
       "      <td> 0.173793</td>\n",
       "      <td> 0.182063</td>\n",
       "      <td> 0.186814</td>\n",
       "      <td> 0.191070</td>\n",
       "      <td>...</td>\n",
       "      <td> 2.161516</td>\n",
       "      <td> 2.411249</td>\n",
       "      <td> 2.699926</td>\n",
       "      <td> 3.078168</td>\n",
       "      <td> 3.719263</td>\n",
       "      <td> 5.003746</td>\n",
       "      <td> 6.676351</td>\n",
       "      <td>  9.267645</td>\n",
       "      <td> 15.328248</td>\n",
       "      <td> 145.079483</td>\n",
       "    </tr>\n",
       "    <tr>\n",
       "      <th>27</th>\n",
       "      <td> 1003</td>\n",
       "      <td> 38184.915010</td>\n",
       "      <td> 0.056935</td>\n",
       "      <td> 0.107178</td>\n",
       "      <td> 0.118484</td>\n",
       "      <td> 0.125980</td>\n",
       "      <td> 0.132402</td>\n",
       "      <td> 0.137894</td>\n",
       "      <td> 0.143601</td>\n",
       "      <td> 0.148750</td>\n",
       "      <td>...</td>\n",
       "      <td> 3.742403</td>\n",
       "      <td> 4.276526</td>\n",
       "      <td> 4.916967</td>\n",
       "      <td> 5.721371</td>\n",
       "      <td> 6.680459</td>\n",
       "      <td> 7.893828</td>\n",
       "      <td> 9.910105</td>\n",
       "      <td> 13.133859</td>\n",
       "      <td> 20.927599</td>\n",
       "      <td> 123.514381</td>\n",
       "    </tr>\n",
       "    <tr>\n",
       "      <th>46</th>\n",
       "      <td> 1005</td>\n",
       "      <td>  6871.583857</td>\n",
       "      <td> 0.043941</td>\n",
       "      <td> 0.086145</td>\n",
       "      <td> 0.095615</td>\n",
       "      <td> 0.101850</td>\n",
       "      <td> 0.106225</td>\n",
       "      <td> 0.109345</td>\n",
       "      <td> 0.112474</td>\n",
       "      <td> 0.115588</td>\n",
       "      <td>...</td>\n",
       "      <td> 0.797381</td>\n",
       "      <td> 0.901116</td>\n",
       "      <td> 1.048127</td>\n",
       "      <td> 1.222446</td>\n",
       "      <td> 1.468622</td>\n",
       "      <td> 1.779225</td>\n",
       "      <td> 2.387350</td>\n",
       "      <td>  3.628947</td>\n",
       "      <td>  6.626003</td>\n",
       "      <td>  44.564407</td>\n",
       "    </tr>\n",
       "    <tr>\n",
       "      <th>65</th>\n",
       "      <td> 1007</td>\n",
       "      <td>  4142.102741</td>\n",
       "      <td> 0.006973</td>\n",
       "      <td> 0.070001</td>\n",
       "      <td> 0.080778</td>\n",
       "      <td> 0.088453</td>\n",
       "      <td> 0.096101</td>\n",
       "      <td> 0.101106</td>\n",
       "      <td> 0.105994</td>\n",
       "      <td> 0.110113</td>\n",
       "      <td>...</td>\n",
       "      <td> 0.846271</td>\n",
       "      <td> 0.935301</td>\n",
       "      <td> 1.022331</td>\n",
       "      <td> 1.144106</td>\n",
       "      <td> 1.315073</td>\n",
       "      <td> 1.590194</td>\n",
       "      <td> 1.939062</td>\n",
       "      <td>  2.596352</td>\n",
       "      <td>  4.653159</td>\n",
       "      <td>  24.794933</td>\n",
       "    </tr>\n",
       "    <tr>\n",
       "      <th>84</th>\n",
       "      <td> 1009</td>\n",
       "      <td>  8057.377934</td>\n",
       "      <td> 0.153017</td>\n",
       "      <td> 0.237116</td>\n",
       "      <td> 0.253795</td>\n",
       "      <td> 0.265682</td>\n",
       "      <td> 0.276250</td>\n",
       "      <td> 0.284819</td>\n",
       "      <td> 0.293847</td>\n",
       "      <td> 0.301899</td>\n",
       "      <td>...</td>\n",
       "      <td> 1.414599</td>\n",
       "      <td> 1.501433</td>\n",
       "      <td> 1.637327</td>\n",
       "      <td> 1.793769</td>\n",
       "      <td> 1.989050</td>\n",
       "      <td> 2.268445</td>\n",
       "      <td> 2.699037</td>\n",
       "      <td>  3.650725</td>\n",
       "      <td>  6.214058</td>\n",
       "      <td>  28.969046</td>\n",
       "    </tr>\n",
       "  </tbody>\n",
       "</table>\n",
       "<p>5 rows × 103 columns</p>\n",
       "</div>"
      ],
      "text/plain": [
       "    FIPS         total     pct.0     pct.1     pct.2     pct.3     pct.4  \\\n",
       "8   1001  10435.464470  0.089104  0.144017  0.157609  0.167387  0.173793   \n",
       "27  1003  38184.915010  0.056935  0.107178  0.118484  0.125980  0.132402   \n",
       "46  1005   6871.583857  0.043941  0.086145  0.095615  0.101850  0.106225   \n",
       "65  1007   4142.102741  0.006973  0.070001  0.080778  0.088453  0.096101   \n",
       "84  1009   8057.377934  0.153017  0.237116  0.253795  0.265682  0.276250   \n",
       "\n",
       "       pct.5     pct.6     pct.7     ...        pct.91    pct.92    pct.93  \\\n",
       "8   0.182063  0.186814  0.191070     ...      2.161516  2.411249  2.699926   \n",
       "27  0.137894  0.143601  0.148750     ...      3.742403  4.276526  4.916967   \n",
       "46  0.109345  0.112474  0.115588     ...      0.797381  0.901116  1.048127   \n",
       "65  0.101106  0.105994  0.110113     ...      0.846271  0.935301  1.022331   \n",
       "84  0.284819  0.293847  0.301899     ...      1.414599  1.501433  1.637327   \n",
       "\n",
       "      pct.94    pct.95    pct.96    pct.97     pct.98     pct.99     pct.100  \n",
       "8   3.078168  3.719263  5.003746  6.676351   9.267645  15.328248  145.079483  \n",
       "27  5.721371  6.680459  7.893828  9.910105  13.133859  20.927599  123.514381  \n",
       "46  1.222446  1.468622  1.779225  2.387350   3.628947   6.626003   44.564407  \n",
       "65  1.144106  1.315073  1.590194  1.939062   2.596352   4.653159   24.794933  \n",
       "84  1.793769  1.989050  2.268445  2.699037   3.650725   6.214058   28.969046  \n",
       "\n",
       "[5 rows x 103 columns]"
      ]
     },
     "execution_count": 316,
     "metadata": {},
     "output_type": "execute_result"
    }
   ],
   "source": [
    "viirs_data = viirs_data.rename(columns={'GEOID':'FIPS','sum':'total'})\n",
    "viirs_july_14 = viirs_data[(viirs_data[\"year\"] == 2014) & (viirs_data[\"month\"] == 7)]\n",
    "viirs_july_14.head()\n",
    "del(viirs_july_14['year'])\n",
    "del(viirs_july_14['month'])\n",
    "del(viirs_july_14['char'])\n",
    "viirs_july_14.head()"
   ]
  },
  {
   "cell_type": "raw",
   "metadata": {},
   "source": [
    "Organizing Population Data"
   ]
  },
  {
   "cell_type": "code",
   "execution_count": 317,
   "metadata": {
    "collapsed": false
   },
   "outputs": [
    {
     "data": {
      "text/html": [
       "<div style=\"max-height:1000px;max-width:1500px;overflow:auto;\">\n",
       "<table border=\"1\" class=\"dataframe\">\n",
       "  <thead>\n",
       "    <tr style=\"text-align: right;\">\n",
       "      <th></th>\n",
       "      <th>FIPS</th>\n",
       "      <th>POPESTIMATE2014</th>\n",
       "      <th>NPOPCHG2014</th>\n",
       "      <th>NATURALINC2014</th>\n",
       "      <th>INTERNATIONALMIG2014</th>\n",
       "      <th>DOMESTICMIG2014</th>\n",
       "    </tr>\n",
       "  </thead>\n",
       "  <tbody>\n",
       "    <tr>\n",
       "      <th>0</th>\n",
       "      <td> 1001</td>\n",
       "      <td>  55395</td>\n",
       "      <td>  259</td>\n",
       "      <td> 126</td>\n",
       "      <td>  11</td>\n",
       "      <td>  129</td>\n",
       "    </tr>\n",
       "    <tr>\n",
       "      <th>1</th>\n",
       "      <td> 1003</td>\n",
       "      <td> 200111</td>\n",
       "      <td> 4668</td>\n",
       "      <td> 222</td>\n",
       "      <td> 283</td>\n",
       "      <td> 3779</td>\n",
       "    </tr>\n",
       "    <tr>\n",
       "      <th>2</th>\n",
       "      <td> 1007</td>\n",
       "      <td>  22506</td>\n",
       "      <td>    2</td>\n",
       "      <td>  16</td>\n",
       "      <td>   3</td>\n",
       "      <td>   -8</td>\n",
       "    </tr>\n",
       "    <tr>\n",
       "      <th>3</th>\n",
       "      <td> 1009</td>\n",
       "      <td>  57719</td>\n",
       "      <td>   -1</td>\n",
       "      <td> 112</td>\n",
       "      <td>  12</td>\n",
       "      <td> -114</td>\n",
       "    </tr>\n",
       "    <tr>\n",
       "      <th>4</th>\n",
       "      <td> 1015</td>\n",
       "      <td> 115916</td>\n",
       "      <td> -631</td>\n",
       "      <td>-109</td>\n",
       "      <td>  31</td>\n",
       "      <td> -471</td>\n",
       "    </tr>\n",
       "  </tbody>\n",
       "</table>\n",
       "</div>"
      ],
      "text/plain": [
       "   FIPS  POPESTIMATE2014  NPOPCHG2014  NATURALINC2014  INTERNATIONALMIG2014  \\\n",
       "0  1001            55395          259             126                    11   \n",
       "1  1003           200111         4668             222                   283   \n",
       "2  1007            22506            2              16                     3   \n",
       "3  1009            57719           -1             112                    12   \n",
       "4  1015           115916         -631            -109                    31   \n",
       "\n",
       "   DOMESTICMIG2014  \n",
       "0              129  \n",
       "1             3779  \n",
       "2               -8  \n",
       "3             -114  \n",
       "4             -471  "
      ]
     },
     "execution_count": 317,
     "metadata": {},
     "output_type": "execute_result"
    }
   ],
   "source": [
    "pop_data = pop_data.rename(columns={'STCOU':'FIPS'})\n",
    "pop_data.head()"
   ]
  },
  {
   "cell_type": "markdown",
   "metadata": {},
   "source": [
    "Organizing Income Data"
   ]
  },
  {
   "cell_type": "code",
   "execution_count": 318,
   "metadata": {
    "collapsed": false
   },
   "outputs": [
    {
     "data": {
      "text/html": [
       "<div style=\"max-height:1000px;max-width:1500px;overflow:auto;\">\n",
       "<table border=\"1\" class=\"dataframe\">\n",
       "  <thead>\n",
       "    <tr style=\"text-align: right;\">\n",
       "      <th></th>\n",
       "      <th>Poverty Estimate, All Ages</th>\n",
       "      <th>Median Household Income</th>\n",
       "      <th>FIPS</th>\n",
       "    </tr>\n",
       "  </thead>\n",
       "  <tbody>\n",
       "    <tr>\n",
       "      <th>0</th>\n",
       "      <td> 905682</td>\n",
       "      <td> 42917</td>\n",
       "      <td> 1000</td>\n",
       "    </tr>\n",
       "    <tr>\n",
       "      <th>1</th>\n",
       "      <td>   7204</td>\n",
       "      <td> 54366</td>\n",
       "      <td> 1001</td>\n",
       "    </tr>\n",
       "    <tr>\n",
       "      <th>2</th>\n",
       "      <td>  25696</td>\n",
       "      <td> 49626</td>\n",
       "      <td> 1003</td>\n",
       "    </tr>\n",
       "    <tr>\n",
       "      <th>3</th>\n",
       "      <td>   5943</td>\n",
       "      <td> 34971</td>\n",
       "      <td> 1005</td>\n",
       "    </tr>\n",
       "    <tr>\n",
       "      <th>4</th>\n",
       "      <td>   3666</td>\n",
       "      <td> 39546</td>\n",
       "      <td> 1007</td>\n",
       "    </tr>\n",
       "  </tbody>\n",
       "</table>\n",
       "</div>"
      ],
      "text/plain": [
       "   Poverty Estimate, All Ages  Median Household Income  FIPS\n",
       "0                      905682                    42917  1000\n",
       "1                        7204                    54366  1001\n",
       "2                       25696                    49626  1003\n",
       "3                        5943                    34971  1005\n",
       "4                        3666                    39546  1007"
      ]
     },
     "execution_count": 318,
     "metadata": {},
     "output_type": "execute_result"
    }
   ],
   "source": [
    "state_codes = income_data['State FIPS Code'].values\n",
    "county_codes = income_data['County FIPS Code'].values\n",
    "fips_codes = state_codes*1000+county_codes\n",
    "income_data['FIPS'] = fips_codes\n",
    "del(income_data['State FIPS Code'])\n",
    "del(income_data['County FIPS Code'])\n",
    "income_data.head()"
   ]
  },
  {
   "cell_type": "markdown",
   "metadata": {},
   "source": [
    "Find counties in all three datasets"
   ]
  },
  {
   "cell_type": "code",
   "execution_count": 319,
   "metadata": {
    "collapsed": false
   },
   "outputs": [],
   "source": [
    "viirs_fips = viirs_july_2014['FIPS'].values\n",
    "pop_fips = pop_data['FIPS'].values\n",
    "income_fips = income_data['FIPS'].values"
   ]
  },
  {
   "cell_type": "code",
   "execution_count": 320,
   "metadata": {
    "collapsed": false
   },
   "outputs": [
    {
     "name": "stderr",
     "output_type": "stream",
     "text": [
      "C:\\Users\\Bernal\\Anaconda3\\lib\\site-packages\\ipykernel\\__main__.py:10: DeprecationWarning: using a non-integer number instead of an integer will result in an error in the future\n"
     ]
    }
   ],
   "source": [
    "index_array = np.array([])\n",
    "for i,viirs_fip in enumerate(viirs_fips):\n",
    "    for j,pop_fip in enumerate(pop_fips):\n",
    "        if pop_fip == viirs_fip:\n",
    "            for k,income_fip in enumerate(income_fips):\n",
    "                if pop_fip == income_fip:\n",
    "                    indices = np.array([i,j,k])\n",
    "                    index_array = np.append(index_array,indices)\n",
    "                    \n",
    "index_array = index_array.reshape((index_array.shape[0]/3,3))"
   ]
  },
  {
   "cell_type": "markdown",
   "metadata": {},
   "source": [
    "Creating combined dataset"
   ]
  },
  {
   "cell_type": "code",
   "execution_count": 321,
   "metadata": {
    "collapsed": false
   },
   "outputs": [],
   "source": [
    "index_array = index_array.astype('int')\n",
    "\n",
    "del(viirs_july_14['FIPS'])\n",
    "del(pop_data['FIPS'])\n",
    "del(income_data['FIPS'])\n",
    "\n",
    "viirs_match = viirs_july_14.values[index_array[:,0],:]\n",
    "pop_match = pop_data.values[index_array[:,1],:]\n",
    "income_match = income_data.values[index_array[:,2],:]"
   ]
  },
  {
   "cell_type": "markdown",
   "metadata": {},
   "source": [
    "## 3. Naive Feature Combination"
   ]
  },
  {
   "cell_type": "code",
   "execution_count": 322,
   "metadata": {
    "collapsed": false
   },
   "outputs": [
    {
     "data": {
      "text/plain": [
       "(908, 109)"
      ]
     },
     "execution_count": 322,
     "metadata": {},
     "output_type": "execute_result"
    }
   ],
   "source": [
    "combined_data = np.hstack((viirs_match,pop_match,income_match))\n",
    "combined_data.shape"
   ]
  },
  {
   "cell_type": "code",
   "execution_count": 323,
   "metadata": {
    "collapsed": false
   },
   "outputs": [],
   "source": [
    "combined_data = sklpp.normalize(combined_data,axis=0)"
   ]
  },
  {
   "cell_type": "code",
   "execution_count": 324,
   "metadata": {
    "collapsed": false
   },
   "outputs": [],
   "source": [
    "covariance_matrix = np.cov(combined_data.T)"
   ]
  },
  {
   "cell_type": "code",
   "execution_count": 325,
   "metadata": {
    "collapsed": false
   },
   "outputs": [
    {
     "data": {
      "text/plain": [
       "<matplotlib.image.AxesImage at 0xb467128>"
      ]
     },
     "execution_count": 325,
     "metadata": {},
     "output_type": "execute_result"
    },
    {
     "data": {
      "image/png": "[encoded data removed]",
      "text/plain": [
       "<matplotlib.figure.Figure at 0x9793470>"
      ]
     },
     "metadata": {},
     "output_type": "display_data"
    }
   ],
   "source": [
    "plt.imshow(covariance_matrix)"
   ]
  },
  {
   "cell_type": "markdown",
   "metadata": {},
   "source": [
    "## 4. Further Processing Light Data"
   ]
  },
  {
   "cell_type": "markdown",
   "metadata": {},
   "source": [
    "Modelling Light Intensity Distribution as Normal"
   ]
  },
  {
   "cell_type": "code",
   "execution_count": 330,
   "metadata": {
    "collapsed": false
   },
   "outputs": [],
   "source": [
    "viirs = viirs_match[:,1:]"
   ]
  },
  {
   "cell_type": "code",
   "execution_count": 345,
   "metadata": {
    "collapsed": false
   },
   "outputs": [
    {
     "data": {
      "text/plain": [
       "(908, 3)"
      ]
     },
     "execution_count": 345,
     "metadata": {},
     "output_type": "execute_result"
    }
   ],
   "source": [
    "viirs_mean = viirs.mean(axis = 1)\n",
    "viirs_std = viirs.std(axis = 1)\n",
    "viirs_total = viirs_match[:,0]\n",
    "viirs_new = np.array([viirs_total, viirs_mean,viirs_std]).T\n",
    "viirs_new.shape"
   ]
  },
  {
   "cell_type": "code",
   "execution_count": 356,
   "metadata": {
    "collapsed": false
   },
   "outputs": [
    {
     "data": {
      "text/plain": [
       "(908, 10)"
      ]
     },
     "execution_count": 356,
     "metadata": {},
     "output_type": "execute_result"
    }
   ],
   "source": [
    "combined_data = np.hstack((viirs_new,pop_match,income_match))\n",
    "combined_data.shape"
   ]
  },
  {
   "cell_type": "code",
   "execution_count": 357,
   "metadata": {
    "collapsed": false
   },
   "outputs": [],
   "source": [
    "combined_data = sklpp.normalize(combined_data,axis=0)"
   ]
  },
  {
   "cell_type": "code",
   "execution_count": 358,
   "metadata": {
    "collapsed": false
   },
   "outputs": [],
   "source": [
    "covariance_matrix = np.cov(combined_data.T)"
   ]
  },
  {
   "cell_type": "markdown",
   "metadata": {},
   "source": [
    "This covariance matrix shows the correlation between the satellite data, the income data and the population data. The first three features are \"total light intensity\", \"mean light intensity\" and \"standard deviation of the light intensity\". The five features after that are the population census data and the last two are \"amount of people in poverty\" and \"median household income\"."
   ]
  },
  {
   "cell_type": "code",
   "execution_count": 366,
   "metadata": {
    "collapsed": false
   },
   "outputs": [
    {
     "data": {
      "text/plain": [
       "<matplotlib.image.AxesImage at 0xb09d898>"
      ]
     },
     "execution_count": 366,
     "metadata": {},
     "output_type": "execute_result"
    },
    {
     "data": {
      "image/png": "[encoded data removed]",
      "text/plain": [
       "<matplotlib.figure.Figure at 0xbc72b70>"
      ]
     },
     "metadata": {},
     "output_type": "display_data"
    }
   ],
   "source": [
    "plt.imshow(covariance_matrix)"
   ]
  },
  {
   "cell_type": "markdown",
   "metadata": {},
   "source": [
    "From the plot we can see that the total light intensity is correlated with some population features as well as with amount of people in poverty. Unfortunately, the data as it stands does not let us see any interesting correlations because the bulk of the variance can be explained away by how many people live in a county."
   ]
  },
  {
   "cell_type": "markdown",
   "metadata": {},
   "source": [
    "## 5. Normalizing by Population Variability"
   ]
  },
  {
   "cell_type": "code",
   "execution_count": null,
   "metadata": {
    "collapsed": true
   },
   "outputs": [],
   "source": []
  }
 ],
 "metadata": {
  "kernelspec": {
   "display_name": "Python 3",
   "language": "python",
   "name": "python3"
  },
  "language_info": {
   "codemirror_mode": {
    "name": "ipython",
    "version": 3
   },
   "file_extension": ".py",
   "mimetype": "text/x-python",
   "name": "python",
   "nbconvert_exporter": "python",
   "pygments_lexer": "ipython3",
   "version": "3.4.4"
  }
 },
 "nbformat": 4,
 "nbformat_minor": 0
}
